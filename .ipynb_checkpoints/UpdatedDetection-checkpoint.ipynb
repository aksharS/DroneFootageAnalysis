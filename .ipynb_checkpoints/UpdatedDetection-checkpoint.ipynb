{
 "cells": [
  {
   "cell_type": "code",
   "execution_count": 1,
   "metadata": {},
   "outputs": [],
   "source": [
    "import cv2\n",
    "import numpy as np\n",
    "import pytesseract\n",
    "import grip\n",
    "import time\n",
    "from dataclasses import dataclass\n",
    "\n",
    "cap = cv2.VideoCapture(\"/Users/akshar/Downloads/Humans in Autonomy/DroneFootageAnalysis/SampleVid.mp4\")\n",
    "REFERENCE_INSPECTION_FRAME = cv2.imread(\"/Users/akshar/Downloads/Humans in Autonomy/DroneFootageAnalysis/blankFrame.jpg\")\n",
    "CROPPED_REFERENCE = cv2.imread(\"/Users/akshar/Downloads/Humans in Autonomy/DroneFootageAnalysis/ReferenceUnderJoystick.jpg\")\n",
    "LEFT_JOYSTICK = cv2.imread(\"/Users/akshar/Downloads/Humans in Autonomy/DroneFootageAnalysis/leftJoystick.jpg\")\n",
    "RIGHT_JOYSTICK = cv2.imread(\"/Users/akshar/Downloads/Humans in Autonomy/DroneFootageAnalysis/rightJoystick.jpg\")\n",
    "TESSERACT_PATH = \"/Users/akshar/Downloads/Humans in Autonomy/DroneFootageAnalysis/tesseractPattern.txt\"\n",
    "\n",
    "LEFT_JOYSTICK_DIFFERENCE_THRESHOLD = 300000\n",
    "RIGHT_JOYSTICK_DIFFERENCE_THRESHOLD = 250000\n",
    "INSPECTION_MODE_THRESHOLD = 400000\n",
    "\n",
    "start_frame_number = 0\n",
    "cap.set(cv2.CAP_PROP_POS_FRAMES, start_frame_number)\n",
    "cv2.startWindowThread()\n",
    "\n",
    "clicks = []\n",
    "times = [0]\n",
    "\n",
    "@dataclass\n",
    "class ClickEvent:\n",
    "    side: float\n",
    "    time: float\n",
    "\n",
    "def isInspectionMode(left, right):\n",
    "    left_diff = cv2.subtract(left, LEFT_JOYSTICK)\n",
    "    right_diff = cv2.subtract(right, RIGHT_JOYSTICK)\n",
    "    \n",
    "    if avg(left_diff, right_diff) < INSPECTION_MODE_THRESHOLD:\n",
    "        return True\n",
    "    else:\n",
    "        return False\n",
    "        \n",
    "def isLeftClick(frame, reference):\n",
    "    difference = cv2.subtract(frame, reference)\n",
    "    print (\"l \", difference.sum())\n",
    "    if difference.sum() > LEFT_JOYSTICK_DIFFERENCE_THRESHOLD:\n",
    "        print (\"returning left click\")\n",
    "        cv2.imshow(\"left difference\", difference)\n",
    "        return True\n",
    "    else:\n",
    "        return False\n",
    "    \n",
    "def isRightClick(frame, reference):\n",
    "    difference = cv2.subtract(frame, reference)\n",
    "    print (\"r \", difference.sum())\n",
    "    if difference.sum() > RIGHT_JOYSTICK_DIFFERENCE_THRESHOLD:\n",
    "        print (\"returning right click\")\n",
    "        cv2.imshow(\"right difference\", difference)\n",
    "        return True\n",
    "    else:\n",
    "        return False\n",
    "\n",
    "def flightTime(frame):\n",
    "    time_frame = frame[10:75, 600:700]\n",
    "    cv2.imshow(\"time\", time_frame)\n",
    "    time_str = pytesseract.image_to_string(time_frame, config='--oem 1 --psm 8 --user-patterns /Users/akshar/Downloads/Humans in Autonomy/DroneFootageAnalysis/tesseractPattern.txt')\n",
    "    print (time_str)\n",
    "    try:\n",
    "        seconds = (time.strptime(time_str, '%M:%S')[4]*60) + time.strptime(time_str, '%M:%S')[5]\n",
    "        current_time = seconds\n",
    "        return seconds\n",
    "    except:\n",
    "        return current_time\n",
    "    \n",
    "def checkJoysticks(frame):\n",
    "    #frame - cv2.medianBlur(frame, 5)\n",
    "    #LEFT_JOYSTICK = cv2.medianBlur(LEFT_JOYSTICK, 5)\n",
    "    #RIGHT_JOYSTICK = cv2.medianBlur(RIGHT_JOYSTICK, 5)\n",
    "    leftJoystick = frame[160:420, 20:280]\n",
    "    rightJoystick = frame[160:420:, 1000:1260]\n",
    "    time = flightTime(frame)\n",
    "    if isInspectionMode(leftJoystick, rightJoystick):\n",
    "        if isLeftClick(leftJoystick, LEFT_JOYSTICK) and not isRightClick(rightJoystick, RIGHT_JOYSTICK):            \n",
    "            if time not in times or not time:\n",
    "                clicks.append(ClickEvent(1, time))\n",
    "                times.append(time)\n",
    "        if isRightClick(rightJoystick, RIGHT_JOYSTICK):\n",
    "            if time not in times or not time:\n",
    "                clicks.append(ClickEvent(2, time))\n",
    "                times.append(time)\n",
    "    "
   ]
  },
  {
   "cell_type": "code",
   "execution_count": 2,
   "metadata": {},
   "outputs": [
    {
     "name": "stdout",
     "output_type": "stream",
     "text": [
      "running...\n"
     ]
    }
   ],
   "source": [
    "print (\"running...\")\n",
    "while cap.isOpened():\n",
    "    ret, frame = cap.read()\n",
    "    if ret == True:\n",
    "        cv2.imshow(\"frame\", frame)\n",
    "        flightTime(frame)\n",
    "        print(flightTime(frame))\n",
    "        if cv2.waitKey(25) & 0xFF == ord('q'):\n",
    "            break"
   ]
  },
  {
   "cell_type": "code",
   "execution_count": null,
   "metadata": {},
   "outputs": [],
   "source": []
  },
  {
   "cell_type": "code",
   "execution_count": null,
   "metadata": {},
   "outputs": [],
   "source": []
  },
  {
   "cell_type": "code",
   "execution_count": null,
   "metadata": {},
   "outputs": [],
   "source": []
  }
 ],
 "metadata": {
  "kernelspec": {
   "display_name": "Python 3",
   "language": "python",
   "name": "python3"
  },
  "language_info": {
   "codemirror_mode": {
    "name": "ipython",
    "version": 3
   },
   "file_extension": ".py",
   "mimetype": "text/x-python",
   "name": "python",
   "nbconvert_exporter": "python",
   "pygments_lexer": "ipython3",
   "version": "3.7.3"
  }
 },
 "nbformat": 4,
 "nbformat_minor": 2
}
